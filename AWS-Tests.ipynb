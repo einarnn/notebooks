{
 "cells": [
  {
   "cell_type": "code",
   "execution_count": null,
   "metadata": {
    "scrolled": false
   },
   "outputs": [],
   "source": [
    "HOSTS = [\n",
    "    \"ec2-52-90-35-138.compute-1.amazonaws.com\",\n",
    "    \"ec2-54-234-152-160.compute-1.amazonaws.com\",\n",
    "    \"ec2-174-129-180-170.compute-1.amazonaws.com\",\n",
    "    \"ec2-174-129-127-105.compute-1.amazonaws.com\",\n",
    "    \"ec2-52-23-227-161.compute-1.amazonaws.com\",\n",
    "    \"ec2-52-91-252-81.compute-1.amazonaws.com\",\n",
    "]\n",
    "PORT = 830\n",
    "USER = 'cisco'\n",
    "PASS = 'C1sdevops'\n",
    "\n",
    "from ncclient import manager\n",
    "from lxml import etree\n",
    "\n",
    "def pretty_print(retval):\n",
    "        print(etree.tostring(retval.data, pretty_print=True))\n",
    "\n",
    "def my_unknown_host_cb(host, fingerprint):\n",
    "    return True\n",
    "\n",
    "for HOST in HOSTS:\n",
    "    m = manager.connect(\n",
    "        host=HOST, port=PORT, username=USER, password=PASS,\n",
    "        allow_agent=False,\n",
    "        look_for_keys=False,\n",
    "        hostkey_verify=False,\n",
    "        unknown_host_cb=my_unknown_host_cb)\n",
    "    c = m.get_config(source='running')\n",
    "    pretty_print(c)\n",
    "    m.close_session()"
   ]
  },
  {
   "cell_type": "code",
   "execution_count": null,
   "metadata": {
    "collapsed": true
   },
   "outputs": [],
   "source": []
  }
 ],
 "metadata": {
  "kernelspec": {
   "display_name": "Python 2",
   "language": "python",
   "name": "python2"
  },
  "language_info": {
   "codemirror_mode": {
    "name": "ipython",
    "version": 2
   },
   "file_extension": ".py",
   "mimetype": "text/x-python",
   "name": "python",
   "nbconvert_exporter": "python",
   "pygments_lexer": "ipython2",
   "version": "2.7.13"
  }
 },
 "nbformat": 4,
 "nbformat_minor": 2
}
